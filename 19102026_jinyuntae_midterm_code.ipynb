{
 "cells": [
  {
   "cell_type": "markdown",
   "id": "f6c7f1d7",
   "metadata": {},
   "source": [
    "# Library and Path Setting"
   ]
  },
  {
   "cell_type": "code",
   "execution_count": 1,
   "id": "f2fd0793",
   "metadata": {},
   "outputs": [],
   "source": [
    "# library\n",
    "import keras\n",
    "import numpy as np\n",
    "from keras.preprocessing.image import ImageDataGenerator\n",
    "import matplotlib.pyplot as plt\n",
    "import os\n",
    "import scipy\n",
    "\n",
    "\n",
    "\n",
    "# load Neural Network Model Library => condition 3 of assignment\n",
    "from keras.models import Sequential\n",
    "from keras.layers import Dense, Dropout, Activation, Flatten, BatchNormalization\n",
    "from keras.layers import Conv2D, MaxPooling2D"
   ]
  },
  {
   "cell_type": "code",
   "execution_count": 2,
   "id": "4d0f03c4",
   "metadata": {},
   "outputs": [],
   "source": [
    "# path\n",
    "train_path = \"./cifar10/train/\"\n",
    "test_path = \"./cifar10/test/\""
   ]
  },
  {
   "cell_type": "markdown",
   "id": "489b8f03",
   "metadata": {},
   "source": [
    "## Data Load   \n",
    "ImageDataGenerator로 데이터를 로드하면서 rescale을 동시에 진행하도록 했습니다.  \n",
    "원본 데이터셋 디렉토리 구조가 train, test만 존재하여 ImageDataGenerator로 로드하면서 validation_split을 0.1로 주어 동시에 validation data를 분할하도록 했습니다.  \n",
    "아래 학습부분에서 model.fit_generator를 활용했기에 학습에 대한 하이퍼파라미터인 batch_size는 아래 flow_from_directory 메서드의 파라미터로 조절합니다."
   ]
  },
  {
   "cell_type": "code",
   "execution_count": 3,
   "id": "7ef3e823",
   "metadata": {},
   "outputs": [
    {
     "name": "stdout",
     "output_type": "stream",
     "text": [
      "Found 45000 images belonging to 10 classes.\n",
      "Found 5000 images belonging to 10 classes.\n",
      "Found 10000 images belonging to 10 classes.\n",
      "\n",
      "check shape of data shape\n",
      "input data shape from train_generator: (100, 256, 256, 3)\n",
      "class data shape from train_generator: (100, 10)\n",
      "input data shape from valid_generator: (100, 256, 256, 3)\n",
      "class data shape from valid_generator: (100, 10)\n",
      "input data shape from test_generator: (100, 256, 256, 3)\n",
      "class data shape from test_generator: (100, 10)\n"
     ]
    }
   ],
   "source": [
    "# Set generator with rescaler(1./255) -> condition 2 of assignment\n",
    "train_datagen = ImageDataGenerator(rescale=1./255, validation_split=0.1)\n",
    "test_datagen = ImageDataGenerator(rescale=1./255)\n",
    "\n",
    "# make a loading data flow from path. It generates data at each batch sizes -> condition 1 of assignment\n",
    "batch_size_num = 100\n",
    "train_generator = train_datagen.flow_from_directory(train_path,\n",
    "                                                    classes=sorted(os.listdir(train_path)),\n",
    "                                                    batch_size = batch_size_num,\n",
    "                                                    target_size = (256, 256),\n",
    "                                                    subset=\"training\",\n",
    "                                                    class_mode='categorical')\n",
    "\n",
    "valid_generator = train_datagen.flow_from_directory(train_path, \n",
    "                                                    classes=sorted(os.listdir(train_path)), \n",
    "                                                    batch_size = batch_size_num, \n",
    "                                                    target_size=(256, 256), \n",
    "                                                    subset=\"validation\",\n",
    "                                                    class_mode='categorical')\n",
    "\n",
    "\n",
    "test_generator = test_datagen.flow_from_directory(test_path, \n",
    "                                                  classes=sorted(os.listdir(test_path)),\n",
    "                                                  batch_size = 100,\n",
    "                                                  target_size = (256, 256),\n",
    "                                                  class_mode='categorical')\n",
    "\n",
    "print()\n",
    "# check shape of data shape\n",
    "print(\"check shape of data shape\")\n",
    "for x_data, class_data in train_generator:\n",
    "    print(f\"input data shape from train_generator: {x_data.shape}\")\n",
    "    print(f\"class data shape from train_generator: {class_data.shape}\")\n",
    "    break\n",
    "\n",
    "for x_data, class_data in valid_generator:\n",
    "    print(f\"input data shape from valid_generator: {x_data.shape}\")\n",
    "    print(f\"class data shape from valid_generator: {class_data.shape}\")\n",
    "    break\n",
    "    \n",
    "for x_data, class_data in test_generator:\n",
    "    print(f\"input data shape from test_generator: {x_data.shape}\")\n",
    "    print(f\"class data shape from test_generator: {class_data.shape}\")\n",
    "    break    \n",
    "\n"
   ]
  },
  {
   "cell_type": "markdown",
   "id": "af7a3379",
   "metadata": {},
   "source": [
    "# Model Architecture  \n",
    "모델 아키텍쳐는 Image Classification이기에, 기본적인 AlexNet의 구조에서 10개의 class를 classify하도록 변형했습니다.  \n",
    "또한 Fully Connected Layer에서 Batch Normalization(Batch 형태로 나누어진 데이터를 고려하여 정규화. Local optimum으로 인한 학습속도 저하 및 멈춤을 방지하기 위해 사용), Dropout(뉴런을 부분적으로 생략하여 오버피팅 방지)을 조합하여 사용함으로 학습과정을 보다 효율적으로 만들었습니다."
   ]
  },
  {
   "cell_type": "code",
   "execution_count": 4,
   "id": "55aa2c69",
   "metadata": {},
   "outputs": [
    {
     "name": "stdout",
     "output_type": "stream",
     "text": [
      "Model: \"sequential\"\n",
      "_________________________________________________________________\n",
      " Layer (type)                Output Shape              Param #   \n",
      "=================================================================\n",
      " conv2d (Conv2D)             (None, 62, 62, 96)        34944     \n",
      "                                                                 \n",
      " batch_normalization (BatchN  (None, 62, 62, 96)       384       \n",
      " ormalization)                                                   \n",
      "                                                                 \n",
      " max_pooling2d (MaxPooling2D  (None, 30, 30, 96)       0         \n",
      " )                                                               \n",
      "                                                                 \n",
      " conv2d_1 (Conv2D)           (None, 30, 30, 256)       614656    \n",
      "                                                                 \n",
      " batch_normalization_1 (Batc  (None, 30, 30, 256)      1024      \n",
      " hNormalization)                                                 \n",
      "                                                                 \n",
      " max_pooling2d_1 (MaxPooling  (None, 14, 14, 256)      0         \n",
      " 2D)                                                             \n",
      "                                                                 \n",
      " conv2d_2 (Conv2D)           (None, 14, 14, 384)       885120    \n",
      "                                                                 \n",
      " conv2d_3 (Conv2D)           (None, 14, 14, 384)       1327488   \n",
      "                                                                 \n",
      " conv2d_4 (Conv2D)           (None, 14, 14, 256)       884992    \n",
      "                                                                 \n",
      " max_pooling2d_2 (MaxPooling  (None, 6, 6, 256)        0         \n",
      " 2D)                                                             \n",
      "                                                                 \n",
      " flatten (Flatten)           (None, 9216)              0         \n",
      "                                                                 \n",
      " dense (Dense)               (None, 512)               4719104   \n",
      "                                                                 \n",
      " batch_normalization_2 (Batc  (None, 512)              2048      \n",
      " hNormalization)                                                 \n",
      "                                                                 \n",
      " dropout (Dropout)           (None, 512)               0         \n",
      "                                                                 \n",
      " dense_1 (Dense)             (None, 256)               131328    \n",
      "                                                                 \n",
      " batch_normalization_3 (Batc  (None, 256)              1024      \n",
      " hNormalization)                                                 \n",
      "                                                                 \n",
      " dropout_1 (Dropout)         (None, 256)               0         \n",
      "                                                                 \n",
      " dense_2 (Dense)             (None, 128)               32896     \n",
      "                                                                 \n",
      " batch_normalization_4 (Batc  (None, 128)              512       \n",
      " hNormalization)                                                 \n",
      "                                                                 \n",
      " dropout_2 (Dropout)         (None, 128)               0         \n",
      "                                                                 \n",
      " dense_3 (Dense)             (None, 10)                1290      \n",
      "                                                                 \n",
      "=================================================================\n",
      "Total params: 8,636,810\n",
      "Trainable params: 8,634,314\n",
      "Non-trainable params: 2,496\n",
      "_________________________________________________________________\n"
     ]
    }
   ],
   "source": [
    "# set neural model architecture (transform AlexNet architecture)\n",
    "\n",
    "model = Sequential()\n",
    "\n",
    "# Convolutional layers\n",
    "model.add(Conv2D(96, (11, 11), strides=(4, 4), padding='valid', activation='relu', input_shape=(256, 256, 3)))\n",
    "model.add(BatchNormalization())\n",
    "model.add(MaxPooling2D(pool_size=(3, 3), strides=(2, 2)))\n",
    "\n",
    "model.add(Conv2D(256, (5, 5), strides=(1, 1), padding='same', activation='relu'))\n",
    "model.add(BatchNormalization())\n",
    "model.add(MaxPooling2D(pool_size=(3, 3), strides=(2, 2)))\n",
    "\n",
    "model.add(Conv2D(384, (3, 3), strides=(1, 1), padding='same', activation='relu'))\n",
    "\n",
    "model.add(Conv2D(384, (3, 3), strides=(1, 1), padding='same', activation='relu'))\n",
    "\n",
    "model.add(Conv2D(256, (3, 3), strides=(1, 1), padding='same', activation='relu'))\n",
    "\n",
    "model.add(MaxPooling2D(pool_size=(3, 3), strides=(2, 2)))\n",
    "model.add(Flatten())\n",
    "\n",
    "# Fully-connected layers\n",
    "\n",
    "model.add(Dense(512, activation='relu'))\n",
    "model.add(BatchNormalization())\n",
    "model.add(Dropout(0.5))\n",
    "\n",
    "model.add(Dense(256, activation='relu'))\n",
    "model.add(BatchNormalization())\n",
    "model.add(Dropout(0.5))\n",
    "\n",
    "model.add(Dense(128, activation='relu'))\n",
    "model.add(BatchNormalization())\n",
    "model.add(Dropout(0.5))\n",
    "\n",
    "model.add(Dense(10, activation='softmax'))\n",
    "\n",
    "model.compile(loss='categorical_crossentropy',\n",
    "              optimizer='adam',\n",
    "              metrics=['accuracy'])\n",
    "\n",
    "model.summary()"
   ]
  },
  {
   "cell_type": "markdown",
   "id": "74ffc240",
   "metadata": {},
   "source": [
    "# Training Step  \n",
    "fit_generator 메소드를 사용하여 학습했습니다. steps_per_epoch 파라미터의 경우, ImageDatagenerator의 파라미터인 batch_size로 전체 데이터 사이즈를 나누었기에 iteration과 같습니다.  \n",
    "하이퍼파라미터인 epochs는 여기서 조절합니다.  \n",
    "\n",
    "이후 Hyper Parameter Optimization은 batch_size => Train data와 Valid data 크기의 공약수 중 3개, epoch => 20, 25, 30을 기준으로 진행했습니다.  \n",
    "(batch_size, epoch) => (100, 20), (100, 25), (100, 30), (200, 20), (200, 25), (200, 30), (250, 20), (250, 25), (250, 30)"
   ]
  },
  {
   "cell_type": "code",
   "execution_count": 5,
   "id": "af02156e",
   "metadata": {},
   "outputs": [
    {
     "name": "stderr",
     "output_type": "stream",
     "text": [
      "<ipython-input-5-23bd0cc7fb24>:4: UserWarning: `Model.fit_generator` is deprecated and will be removed in a future version. Please use `Model.fit`, which supports generators.\n",
      "  history = model.fit_generator(\n"
     ]
    },
    {
     "name": "stdout",
     "output_type": "stream",
     "text": [
      "Epoch 1/30\n",
      "450/450 [==============================] - 87s 171ms/step - loss: 2.1309 - accuracy: 0.2731 - val_loss: 1.7505 - val_accuracy: 0.3434\n",
      "Epoch 2/30\n",
      "450/450 [==============================] - 71s 158ms/step - loss: 1.5234 - accuracy: 0.4376 - val_loss: 2.0123 - val_accuracy: 0.3668\n",
      "Epoch 3/30\n",
      "450/450 [==============================] - 75s 167ms/step - loss: 1.3534 - accuracy: 0.5106 - val_loss: 1.3811 - val_accuracy: 0.5022\n",
      "Epoch 4/30\n",
      "450/450 [==============================] - 71s 157ms/step - loss: 1.1827 - accuracy: 0.5810 - val_loss: 1.4151 - val_accuracy: 0.5212\n",
      "Epoch 5/30\n",
      "450/450 [==============================] - 77s 171ms/step - loss: 1.0240 - accuracy: 0.6400 - val_loss: 1.0687 - val_accuracy: 0.6154\n",
      "Epoch 6/30\n",
      "450/450 [==============================] - 72s 159ms/step - loss: 0.9034 - accuracy: 0.6878 - val_loss: 1.0183 - val_accuracy: 0.6434\n",
      "Epoch 7/30\n",
      "450/450 [==============================] - 77s 172ms/step - loss: 0.8034 - accuracy: 0.7263 - val_loss: 0.8788 - val_accuracy: 0.7056\n",
      "Epoch 8/30\n",
      "450/450 [==============================] - 71s 158ms/step - loss: 0.7594 - accuracy: 0.7412 - val_loss: 0.8968 - val_accuracy: 0.7024\n",
      "Epoch 9/30\n",
      "450/450 [==============================] - 77s 172ms/step - loss: 0.6622 - accuracy: 0.7789 - val_loss: 0.8949 - val_accuracy: 0.7062\n",
      "Epoch 10/30\n",
      "450/450 [==============================] - 73s 161ms/step - loss: 0.5889 - accuracy: 0.8010 - val_loss: 0.7239 - val_accuracy: 0.7592\n",
      "Epoch 11/30\n",
      "450/450 [==============================] - 77s 171ms/step - loss: 0.5229 - accuracy: 0.8270 - val_loss: 0.7483 - val_accuracy: 0.7574\n",
      "Epoch 12/30\n",
      "450/450 [==============================] - 73s 162ms/step - loss: 0.4553 - accuracy: 0.8490 - val_loss: 0.6900 - val_accuracy: 0.7754\n",
      "Epoch 13/30\n",
      "450/450 [==============================] - 78s 174ms/step - loss: 0.4119 - accuracy: 0.8648 - val_loss: 0.8235 - val_accuracy: 0.7466\n",
      "Epoch 14/30\n",
      "450/450 [==============================] - 72s 160ms/step - loss: 0.3523 - accuracy: 0.8849 - val_loss: 0.6548 - val_accuracy: 0.8040\n",
      "Epoch 15/30\n",
      "450/450 [==============================] - 76s 170ms/step - loss: 0.3070 - accuracy: 0.9005 - val_loss: 0.6887 - val_accuracy: 0.8062\n",
      "Epoch 16/30\n",
      "450/450 [==============================] - 72s 159ms/step - loss: 0.2622 - accuracy: 0.9151 - val_loss: 0.6644 - val_accuracy: 0.8054\n",
      "Epoch 17/30\n",
      "450/450 [==============================] - 78s 173ms/step - loss: 0.2271 - accuracy: 0.9258 - val_loss: 0.7478 - val_accuracy: 0.7904\n",
      "Epoch 18/30\n",
      "450/450 [==============================] - 70s 155ms/step - loss: 0.1916 - accuracy: 0.9379 - val_loss: 0.7042 - val_accuracy: 0.8206\n",
      "Epoch 19/30\n",
      "450/450 [==============================] - 77s 172ms/step - loss: 0.1684 - accuracy: 0.9463 - val_loss: 0.6718 - val_accuracy: 0.8248\n",
      "Epoch 20/30\n",
      "450/450 [==============================] - 73s 161ms/step - loss: 0.1330 - accuracy: 0.9558 - val_loss: 0.7339 - val_accuracy: 0.8186\n",
      "Epoch 21/30\n",
      "450/450 [==============================] - 77s 172ms/step - loss: 0.1288 - accuracy: 0.9588 - val_loss: 0.8617 - val_accuracy: 0.7922\n",
      "Epoch 22/30\n",
      "450/450 [==============================] - 70s 155ms/step - loss: 0.1105 - accuracy: 0.9641 - val_loss: 0.9807 - val_accuracy: 0.7750\n",
      "Epoch 23/30\n",
      "450/450 [==============================] - 75s 167ms/step - loss: 0.1004 - accuracy: 0.9677 - val_loss: 0.9375 - val_accuracy: 0.7992\n",
      "Epoch 24/30\n",
      "450/450 [==============================] - 72s 161ms/step - loss: 0.0972 - accuracy: 0.9684 - val_loss: 0.7741 - val_accuracy: 0.8242\n",
      "Epoch 25/30\n",
      "450/450 [==============================] - 76s 168ms/step - loss: 0.0866 - accuracy: 0.9715 - val_loss: 0.7908 - val_accuracy: 0.8198\n",
      "Epoch 26/30\n",
      "450/450 [==============================] - 70s 155ms/step - loss: 0.0733 - accuracy: 0.9760 - val_loss: 0.9047 - val_accuracy: 0.8170\n",
      "Epoch 27/30\n",
      "450/450 [==============================] - 76s 169ms/step - loss: 0.0764 - accuracy: 0.9757 - val_loss: 1.0143 - val_accuracy: 0.7944\n",
      "Epoch 28/30\n",
      "450/450 [==============================] - 71s 158ms/step - loss: 0.0699 - accuracy: 0.9769 - val_loss: 0.8646 - val_accuracy: 0.8242\n",
      "Epoch 29/30\n",
      "450/450 [==============================] - 76s 170ms/step - loss: 0.0683 - accuracy: 0.9775 - val_loss: 1.0776 - val_accuracy: 0.7876\n",
      "Epoch 30/30\n",
      "450/450 [==============================] - 70s 155ms/step - loss: 0.0649 - accuracy: 0.9791 - val_loss: 0.8977 - val_accuracy: 0.8232\n"
     ]
    }
   ],
   "source": [
    "# train with fit_generator method\n",
    "# steps_per_epoch => same with iterations(train_data_size//batch_size) in model.fit\n",
    "epochs_num = 30\n",
    "history = model.fit_generator(\n",
    "    train_generator, \n",
    "    steps_per_epoch=train_generator.n//train_generator.batch_size,\n",
    "    validation_data=valid_generator,\n",
    "    validation_steps=valid_generator.n//valid_generator.batch_size,\n",
    "    shuffle=True,\n",
    "    epochs=epochs_num)"
   ]
  },
  {
   "cell_type": "markdown",
   "id": "cffce3da",
   "metadata": {},
   "source": [
    "# Plot of Training Result\n",
    "Accuracy Plot과 Loss Plot을 학습기록에서 불러와 관찰합니다."
   ]
  },
  {
   "cell_type": "code",
   "execution_count": 6,
   "id": "8ab6ff97",
   "metadata": {},
   "outputs": [
    {
     "data": {
      "image/png": "[encoded data removed]",
      "text/plain": [
       "<Figure size 640x480 with 1 Axes>"
      ]
     },
     "metadata": {},
     "output_type": "display_data"
    }
   ],
   "source": [
    "# accuracy plot\n",
    "\n",
    "acc = history.history['accuracy']\n",
    "val_acc = history.history['val_accuracy']\n",
    "epochs = range(len(acc))\n",
    "\n",
    "plt.plot(epochs, acc, label=\"Training acc\")\n",
    "plt.plot(epochs, val_acc, label='Validation acc')\n",
    "plt.title('Training and validation accuracy')\n",
    "plt.legend()\n",
    "plt.ylim(0,1)\n",
    "plt.savefig(f'./result_plot/batch_{batch_size_num}_epoch_{epochs_num}_acc_plot.png')\n",
    "plt.show()"
   ]
  },
  {
   "cell_type": "code",
   "execution_count": 7,
   "id": "4b8ea1a3",
   "metadata": {},
   "outputs": [
    {
     "data": {
      "image/png": "[encoded data removed]",
      "text/plain": [
       "<Figure size 640x480 with 1 Axes>"
      ]
     },
     "metadata": {},
     "output_type": "display_data"
    }
   ],
   "source": [
    "# loss plot\n",
    "acc = history.history['loss']\n",
    "val_acc = history.history['val_loss']\n",
    "epochs = range(len(acc))\n",
    "\n",
    "plt.plot(epochs, acc, label=\"Training loss\")\n",
    "plt.plot(epochs, val_acc, label='Validation loss')\n",
    "plt.title('Training and validation loss')\n",
    "plt.legend()\n",
    "plt.ylim(0, 3)\n",
    "plt.savefig(f'./result_plot/batch_{batch_size_num}_epoch_{epochs_num}_loss_plot.png')\n",
    "plt.show()"
   ]
  },
  {
   "cell_type": "markdown",
   "id": "d3140fe5",
   "metadata": {},
   "source": [
    "# Evaluation  \n",
    "테스트 데이터에 대해서 학습된 모델의 성능을 확인합니다."
   ]
  },
  {
   "cell_type": "code",
   "execution_count": 8,
   "id": "0460f327",
   "metadata": {},
   "outputs": [
    {
     "name": "stdout",
     "output_type": "stream",
     "text": [
      "-- Evaluate --\n"
     ]
    },
    {
     "name": "stderr",
     "output_type": "stream",
     "text": [
      "<ipython-input-8-8190f70dd792>:3: UserWarning: `Model.evaluate_generator` is deprecated and will be removed in a future version. Please use `Model.evaluate`, which supports generators.\n",
      "  scores = model.evaluate_generator(test_generator, steps=test_generator.n//test_generator.batch_size)\n"
     ]
    },
    {
     "name": "stdout",
     "output_type": "stream",
     "text": [
      "accuracy: 81.91%\n"
     ]
    }
   ],
   "source": [
    "# model evaluation\n",
    "print(\"-- Evaluate --\")\n",
    "scores = model.evaluate_generator(test_generator, steps=test_generator.n//test_generator.batch_size)\n",
    "print(\"%s: %.2f%%\" %(model.metrics_names[1], scores[1]*100))"
   ]
  }
 ],
 "metadata": {
  "kernelspec": {
   "display_name": "Python 3",
   "language": "python",
   "name": "python3"
  },
  "language_info": {
   "codemirror_mode": {
    "name": "ipython",
    "version": 3
   },
   "file_extension": ".py",
   "mimetype": "text/x-python",
   "name": "python",
   "nbconvert_exporter": "python",
   "pygments_lexer": "ipython3",
   "version": "3.8.10"
  }
 },
 "nbformat": 4,
 "nbformat_minor": 5
}
